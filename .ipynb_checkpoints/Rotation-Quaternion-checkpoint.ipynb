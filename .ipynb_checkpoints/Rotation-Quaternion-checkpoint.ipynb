{
 "cells": [
  {
   "cell_type": "code",
   "execution_count": 23,
   "metadata": {},
   "outputs": [],
   "source": [
    "from scipy.spatial.transform import Rotation\n",
    "import numpy as np"
   ]
  },
  {
   "cell_type": "code",
   "execution_count": 29,
   "metadata": {},
   "outputs": [
    {
     "name": "stdout",
     "output_type": "stream",
     "text": [
      "[-0.01767767  0.00353553  0.71064232  0.70357125] \n",
      "\n",
      "r_new rotation matrix: \n",
      " [[ 4.49932486e-04 -9.99999899e-01  0.00000000e+00]\n",
      " [ 9.99999899e-01  4.49932486e-04  0.00000000e+00]\n",
      " [ 0.00000000e+00  0.00000000e+00  1.00000000e+00]]\n",
      "q_new rotation matrix: \n",
      " [[-0.00969661 -0.99975009 -0.02014295]\n",
      " [ 0.99950017 -0.0102964   0.02988954]\n",
      " [-0.03008947 -0.01984305  0.99935023]]\n"
     ]
    }
   ],
   "source": [
    "# initialize variables\n",
    "\n",
    "R = np.array(r.as_matrix())\n",
    "\n",
    "q = np.array(r.as_quat())\n",
    "\n",
    "w = np.array([0.01, 0.02, 0.03])\n",
    "\n",
    "w_hat = np.array([[0, -w[2], w[1]], [w[2], 0, -w[0]], [-w[1], w[0], 0]])\n",
    "\n",
    "# R <- R*exp(w^)\n",
    "R = R*np.exp(w_hat)\n",
    "\n",
    "# q <- qexp(w^)\n",
    "w_ = w/2\n",
    "w_ = np.insert(w_, 0, 1, axis=0)\n",
    "\n",
    "def quaternion_multiply(quaternion1, quaternion0):\n",
    "    w0, x0, y0, z0 = quaternion0\n",
    "    w1, x1, y1, z1 = quaternion1\n",
    "    return np.array([-x1 * x0 - y1 * y0 - z1 * z0 + w1 * w0,\n",
    "                     x1 * w0 + y1 * z0 - z1 * y0 + w1 * x0,\n",
    "                     -x1 * z0 + y1 * w0 + z1 * x0 + w1 * y0,\n",
    "                     x1 * y0 - y1 * x0 + z1 * w0 + w1 * z0], dtype=np.float64)\n",
    "\n",
    "q_new = quaternion_multiply(q, w_)\n",
    "print(q_new, \"\\n\")\n",
    "\n",
    "r_new = Rotation.from_matrix(R)\n",
    "print(\"r_new rotation matrix: \\n\", r_new.as_matrix())\n",
    "print(\"q_new rotation matrix: \\n\", Rotation.from_quat(q_new).as_matrix())"
   ]
  },
  {
   "cell_type": "code",
   "execution_count": 30,
   "metadata": {},
   "outputs": [
    {
     "name": "stdout",
     "output_type": "stream",
     "text": [
      "r_new quaternion:  [0.         0.         0.70694769 0.70726584]\n",
      "q_new quaternion:  [-0.01767767  0.00353553  0.71064232  0.70357125]\n",
      "diff:  [ 0.01767767 -0.00353553 -0.00369463  0.00369459]\n"
     ]
    }
   ],
   "source": [
    "print(\"r_new quaternion: \", r_new.as_quat())\n",
    "print(\"q_new quaternion: \", q_new)\n",
    "print(\"diff: \", r_new.as_quat() - q_new)"
   ]
  },
  {
   "cell_type": "code",
   "execution_count": null,
   "metadata": {},
   "outputs": [],
   "source": []
  }
 ],
 "metadata": {
  "kernelspec": {
   "display_name": "Python 3",
   "language": "python",
   "name": "python3"
  },
  "language_info": {
   "codemirror_mode": {
    "name": "ipython",
    "version": 3
   },
   "file_extension": ".py",
   "mimetype": "text/x-python",
   "name": "python",
   "nbconvert_exporter": "python",
   "pygments_lexer": "ipython3",
   "version": "3.8.5"
  }
 },
 "nbformat": 4,
 "nbformat_minor": 4
}
